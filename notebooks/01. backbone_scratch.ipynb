{
 "cells": [
  {
   "cell_type": "markdown",
   "id": "362c45b3",
   "metadata": {},
   "source": [
    "# 1. Experimentation Notebook"
   ]
  },
  {
   "cell_type": "code",
   "execution_count": 1,
   "id": "28f1ba39",
   "metadata": {},
   "outputs": [
    {
     "data": {
      "text/plain": [
       "True"
      ]
     },
     "execution_count": 1,
     "metadata": {},
     "output_type": "execute_result"
    }
   ],
   "source": [
    "from dotenv import load_dotenv\n",
    "from pathlib import Path\n",
    "import os\n",
    "load_dotenv()"
   ]
  },
  {
   "cell_type": "code",
   "execution_count": 2,
   "id": "c85f590a",
   "metadata": {},
   "outputs": [],
   "source": [
    "_FOLDER_PATH_KEY = 'PDF_FOLDER_PATH'\n",
    "FOLDER_STORED_PDFs = Path(os.getenv('PDF_FOLDER_PATH'))"
   ]
  },
  {
   "cell_type": "code",
   "execution_count": 10,
   "id": "de9e2c6f",
   "metadata": {},
   "outputs": [],
   "source": [
    "from marker.config.parser import ConfigParser\n",
    "from marker.converters.pdf import PdfConverter\n",
    "from marker.models import create_model_dict\n",
    "from marker.output import text_from_rendered"
   ]
  },
  {
   "cell_type": "code",
   "execution_count": null,
   "id": "0387c348",
   "metadata": {},
   "outputs": [],
   "source": [
    "## pdfs file_paths\n",
    "PDF_FILE_PATHS = [fp for fp in FOLDER_STORED_PDFs.glob(\"*.pdf\")]"
   ]
  },
  {
   "cell_type": "markdown",
   "id": "61a7a443",
   "metadata": {},
   "source": [
    "## PDF to Text Inference Block"
   ]
  },
  {
   "cell_type": "code",
   "execution_count": 6,
   "id": "c2e3ecc8",
   "metadata": {},
   "outputs": [],
   "source": [
    "cli_options = {}"
   ]
  },
  {
   "cell_type": "code",
   "execution_count": 7,
   "id": "80f6214e",
   "metadata": {},
   "outputs": [],
   "source": [
    "cli_options.update(\n",
    "    {\n",
    "        \"output_format\": \"markdown\",\n",
    "        \"page_range\": \"0\",\n",
    "        \"force_ocr\": True,\n",
    "        \"debug\": False,\n",
    "        \"output_dir\":  None,\n",
    "        \"use_llm\": False,\n",
    "        \"strip_existing_ocr\": False,\n",
    "        \"disable_ocr_math\": False,\n",
    "    }\n",
    ")\n",
    "config_parser = ConfigParser({\n",
    "        \"output_format\": \"markdown\",\n",
    "        \"page_range\": \"0\",\n",
    "        \"force_ocr\": True,\n",
    "        \"debug\": False,\n",
    "        \"output_dir\":  None,\n",
    "        \"use_llm\": False,\n",
    "        \"strip_existing_ocr\": False,\n",
    "        \"disable_ocr_math\": False,\n",
    "    })\n",
    "page_range = config_parser.generate_config_dict()[\"page_range\"]"
   ]
  },
  {
   "cell_type": "code",
   "execution_count": 11,
   "id": "6c55c56e",
   "metadata": {},
   "outputs": [
    {
     "data": {
      "text/plain": [
       "'marker.renderers.markdown.MarkdownRenderer'"
      ]
     },
     "execution_count": 11,
     "metadata": {},
     "output_type": "execute_result"
    }
   ],
   "source": [
    "config_parser.get_renderer()"
   ]
  },
  {
   "cell_type": "code",
   "execution_count": 9,
   "id": "6a46d761",
   "metadata": {},
   "outputs": [],
   "source": [
    "config_dict = config_parser.generate_config_dict()\n",
    "config_dict[\"pdftext_workers\"] = 1"
   ]
  },
  {
   "cell_type": "code",
   "execution_count": 12,
   "id": "f020f7fd",
   "metadata": {},
   "outputs": [
    {
     "name": "stderr",
     "output_type": "stream",
     "text": [
      "2025-09-13 22:18:00,422 [WARNING] surya: `TableRecEncoderDecoderModel` is not compatible with mps backend. Defaulting to cpu instead\n",
      "`torch_dtype` is deprecated! Use `dtype` instead!\n"
     ]
    }
   ],
   "source": [
    "converter = PdfConverter(\n",
    "        config=config_dict,\n",
    "        artifact_dict=create_model_dict(),\n",
    "        processor_list=config_parser.get_processors(),\n",
    "        renderer=config_parser.get_renderer(),\n",
    "        llm_service=config_parser.get_llm_service(),\n",
    "    )"
   ]
  },
  {
   "cell_type": "code",
   "execution_count": 13,
   "id": "d5d4d84e",
   "metadata": {},
   "outputs": [
    {
     "name": "stderr",
     "output_type": "stream",
     "text": [
      "Recognizing layout: 100%|██████████| 1/1 [00:00<00:00,  1.00it/s]\n",
      "Running OCR Error Detection: 100%|██████████| 1/1 [00:00<00:00,  1.15it/s]\n",
      "Detecting bboxes: 100%|██████████| 1/1 [00:00<00:00,  3.91it/s]\n",
      "Recognizing Text: 100%|██████████| 11/11 [02:32<00:00, 13.85s/it]\n",
      "Detecting bboxes: 0it [00:00, ?it/s]\n"
     ]
    }
   ],
   "source": [
    "rendered = converter(\"/Users/niteshkumarsharma/Desktop/Folder/AI/project_eka/sample_pdfs/00_GENERAL_PAPER.pdf\")\n",
    "# text, _, images = text_from_rendered(rendered)"
   ]
  },
  {
   "cell_type": "code",
   "execution_count": 14,
   "id": "1b2fe0e2",
   "metadata": {},
   "outputs": [],
   "source": [
    "text, _, images = text_from_rendered(rendered)"
   ]
  },
  {
   "cell_type": "code",
   "execution_count": null,
   "id": "e6e4acc1",
   "metadata": {},
   "outputs": [],
   "source": [
    "print(text)"
   ]
  },
  {
   "cell_type": "code",
   "execution_count": 15,
   "id": "d157896a",
   "metadata": {},
   "outputs": [
    {
     "data": {
      "text/plain": [
       "{}"
      ]
     },
     "execution_count": 15,
     "metadata": {},
     "output_type": "execute_result"
    }
   ],
   "source": [
    "images\n"
   ]
  },
  {
   "cell_type": "markdown",
   "id": "dc201994",
   "metadata": {},
   "source": []
  }
 ],
 "metadata": {
  "kernelspec": {
   "display_name": ".venv",
   "language": "python",
   "name": "python3"
  },
  "language_info": {
   "codemirror_mode": {
    "name": "ipython",
    "version": 3
   },
   "file_extension": ".py",
   "mimetype": "text/x-python",
   "name": "python",
   "nbconvert_exporter": "python",
   "pygments_lexer": "ipython3",
   "version": "3.12.8"
  }
 },
 "nbformat": 4,
 "nbformat_minor": 5
}
